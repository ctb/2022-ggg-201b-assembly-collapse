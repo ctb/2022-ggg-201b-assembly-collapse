{
 "cells": [
  {
   "cell_type": "markdown",
   "metadata": {},
   "source": [
    "# Assembly collapse!\n",
    "\n",
    "A Jupyter Notebook exploring the phenomenon of assembly \"collapse\" for GGG 201(b) at UC Davis - Intro to Bioinformatics."
   ]
  },
  {
   "cell_type": "code",
   "execution_count": 1,
   "metadata": {},
   "outputs": [],
   "source": [
    "%matplotlib inline\n",
    "import matplotlib.pyplot as plt\n",
    "import pandas as pd"
   ]
  },
  {
   "cell_type": "code",
   "execution_count": 2,
   "metadata": {},
   "outputs": [],
   "source": [
    "df = pd.read_csv('class-results.csv')"
   ]
  },
  {
   "cell_type": "code",
   "execution_count": 3,
   "metadata": {},
   "outputs": [
    {
     "data": {
      "text/plain": [
       "Index(['Unnamed: 0',\n",
       "       'What is the name of your assembly? (Unique prefix is fine)',\n",
       "       'How many reads total did you give the assembler for this assembly?',\n",
       "       'What is your estimated coverage (for a 4.5 Mbp genome)',\n",
       "       'What is the N50 of the assembly?',\n",
       "       'What is the total bp in contigs >= 1000 for the assembly?',\n",
       "       'What is the total number of contigs >= 1000bp for the assembly?',\n",
       "       'What is the total number of protein coding genes (records in the annotation .faa) for the assembly?'],\n",
       "      dtype='object')"
      ]
     },
     "execution_count": 3,
     "metadata": {},
     "output_type": "execute_result"
    }
   ],
   "source": [
    "df.columns"
   ]
  },
  {
   "cell_type": "code",
   "execution_count": 4,
   "metadata": {},
   "outputs": [],
   "source": [
    "df.columns=['index', 'assembly_name', 'total_reads', 'coverage', 'n50',\n",
    "            'total_bp', 'n_contigs', 'n_genes']"
   ]
  },
  {
   "cell_type": "code",
   "execution_count": 5,
   "metadata": {},
   "outputs": [
    {
     "data": {
      "text/html": [
       "<div>\n",
       "<style scoped>\n",
       "    .dataframe tbody tr th:only-of-type {\n",
       "        vertical-align: middle;\n",
       "    }\n",
       "\n",
       "    .dataframe tbody tr th {\n",
       "        vertical-align: top;\n",
       "    }\n",
       "\n",
       "    .dataframe thead th {\n",
       "        text-align: right;\n",
       "    }\n",
       "</style>\n",
       "<table border=\"1\" class=\"dataframe\">\n",
       "  <thead>\n",
       "    <tr style=\"text-align: right;\">\n",
       "      <th></th>\n",
       "      <th>index</th>\n",
       "      <th>assembly_name</th>\n",
       "      <th>total_reads</th>\n",
       "      <th>coverage</th>\n",
       "      <th>n50</th>\n",
       "      <th>total_bp</th>\n",
       "      <th>n_contigs</th>\n",
       "      <th>n_genes</th>\n",
       "    </tr>\n",
       "  </thead>\n",
       "  <tbody>\n",
       "    <tr>\n",
       "      <th>0</th>\n",
       "      <td>1</td>\n",
       "      <td>SRR2584857.sub90k_assembly</td>\n",
       "      <td>90000</td>\n",
       "      <td>2.0</td>\n",
       "      <td>1043</td>\n",
       "      <td>1458742</td>\n",
       "      <td>970</td>\n",
       "      <td>3314</td>\n",
       "    </tr>\n",
       "    <tr>\n",
       "      <th>1</th>\n",
       "      <td>2</td>\n",
       "      <td>SRR2584857.sub450k_assembly</td>\n",
       "      <td>450000</td>\n",
       "      <td>10.0</td>\n",
       "      <td>85452</td>\n",
       "      <td>4539701</td>\n",
       "      <td>113</td>\n",
       "      <td>4205</td>\n",
       "    </tr>\n",
       "    <tr>\n",
       "      <th>2</th>\n",
       "      <td>3</td>\n",
       "      <td>SRR2584857.sub1350k_assembly</td>\n",
       "      <td>1350000</td>\n",
       "      <td>30.0</td>\n",
       "      <td>105235</td>\n",
       "      <td>4540377</td>\n",
       "      <td>92</td>\n",
       "      <td>4202</td>\n",
       "    </tr>\n",
       "    <tr>\n",
       "      <th>3</th>\n",
       "      <td>4</td>\n",
       "      <td>SRR2584857.sub1.3M_assembly</td>\n",
       "      <td>1350000</td>\n",
       "      <td>30.0</td>\n",
       "      <td>105235</td>\n",
       "      <td>4540377</td>\n",
       "      <td>92</td>\n",
       "      <td>4201</td>\n",
       "    </tr>\n",
       "    <tr>\n",
       "      <th>4</th>\n",
       "      <td>5</td>\n",
       "      <td>SRR2584857.sub2.2M_assembly</td>\n",
       "      <td>2250000</td>\n",
       "      <td>50.0</td>\n",
       "      <td>98799</td>\n",
       "      <td>4542425</td>\n",
       "      <td>92</td>\n",
       "      <td>4202</td>\n",
       "    </tr>\n",
       "  </tbody>\n",
       "</table>\n",
       "</div>"
      ],
      "text/plain": [
       "   index                 assembly_name  total_reads  coverage     n50  \\\n",
       "0      1    SRR2584857.sub90k_assembly        90000       2.0    1043   \n",
       "1      2   SRR2584857.sub450k_assembly       450000      10.0   85452   \n",
       "2      3  SRR2584857.sub1350k_assembly      1350000      30.0  105235   \n",
       "3      4   SRR2584857.sub1.3M_assembly      1350000      30.0  105235   \n",
       "4      5   SRR2584857.sub2.2M_assembly      2250000      50.0   98799   \n",
       "\n",
       "   total_bp  n_contigs  n_genes  \n",
       "0   1458742        970     3314  \n",
       "1   4539701        113     4205  \n",
       "2   4540377         92     4202  \n",
       "3   4540377         92     4201  \n",
       "4   4542425         92     4202  "
      ]
     },
     "execution_count": 5,
     "metadata": {},
     "output_type": "execute_result"
    }
   ],
   "source": [
    "df.head()"
   ]
  },
  {
   "cell_type": "code",
   "execution_count": 6,
   "metadata": {},
   "outputs": [
    {
     "data": {
      "text/plain": [
       "count    7.400000e+01\n",
       "mean     1.658092e+05\n",
       "std      8.224438e+05\n",
       "min      1.000000e+00\n",
       "25%      1.000000e+01\n",
       "50%      1.800000e+01\n",
       "75%      3.000000e+01\n",
       "max      4.547555e+06\n",
       "Name: coverage, dtype: float64"
      ]
     },
     "execution_count": 6,
     "metadata": {},
     "output_type": "execute_result"
    }
   ],
   "source": [
    "df[\"coverage\"].describe()"
   ]
  },
  {
   "cell_type": "code",
   "execution_count": 7,
   "metadata": {},
   "outputs": [
    {
     "data": {
      "text/plain": [
       "(0.0, 4774932.7, 0.0, 47618213.5)"
      ]
     },
     "execution_count": 7,
     "metadata": {},
     "output_type": "execute_result"
    },
    {
     "data": {
      "image/png": "[encoded data removed]",
      "text/plain": [
       "<Figure size 432x288 with 1 Axes>"
      ]
     },
     "metadata": {
      "needs_background": "light"
     },
     "output_type": "display_data"
    }
   ],
   "source": [
    "fig, ax = plt.subplots()\n",
    "\n",
    "ax.plot(df.coverage, df.total_bp, '.')\n",
    "ax.axis(xmin=0, ymin=0)"
   ]
  },
  {
   "cell_type": "code",
   "execution_count": null,
   "metadata": {},
   "outputs": [],
   "source": []
  }
 ],
 "metadata": {
  "kernelspec": {
   "display_name": "Python (myenv)",
   "language": "python",
   "name": "myenv"
  },
  "language_info": {
   "codemirror_mode": {
    "name": "ipython",
    "version": 3
   },
   "file_extension": ".py",
   "mimetype": "text/x-python",
   "name": "python",
   "nbconvert_exporter": "python",
   "pygments_lexer": "ipython3",
   "version": "3.7.6"
  }
 },
 "nbformat": 4,
 "nbformat_minor": 4
}
